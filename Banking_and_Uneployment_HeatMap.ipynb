{
 "cells": [
  {
   "cell_type": "markdown",
   "metadata": {},
   "source": [
    "# Banking and Unemployment\n"
   ]
  },
  {
   "cell_type": "code",
   "execution_count": 1,
   "metadata": {},
   "outputs": [],
   "source": [
    "# IMPORTING DEPENDENCIES\n",
    "\n",
    "from census import Census\n",
    "from config import (census_key, gkey)\n",
    "import gmaps\n",
    "import numpy as np\n",
    "import pandas as pd\n",
    "import requests\n",
    "import time\n",
    "from us import states\n",
    "\n",
    "\n",
    "# API KEY\n",
    "c = Census(census_key, year=2013)"
   ]
  },
  {
   "cell_type": "markdown",
   "metadata": {},
   "source": [
    "## Data Retrieval"
   ]
  },
  {
   "cell_type": "code",
   "execution_count": 2,
   "metadata": {},
   "outputs": [
    {
     "name": "stdout",
     "output_type": "stream",
     "text": [
      "33120\n"
     ]
    },
    {
     "data": {
      "text/html": [
       "<div>\n",
       "<style scoped>\n",
       "    .dataframe tbody tr th:only-of-type {\n",
       "        vertical-align: middle;\n",
       "    }\n",
       "\n",
       "    .dataframe tbody tr th {\n",
       "        vertical-align: top;\n",
       "    }\n",
       "\n",
       "    .dataframe thead th {\n",
       "        text-align: right;\n",
       "    }\n",
       "</style>\n",
       "<table border=\"1\" class=\"dataframe\">\n",
       "  <thead>\n",
       "    <tr style=\"text-align: right;\">\n",
       "      <th></th>\n",
       "      <th>Zipcode</th>\n",
       "      <th>Population</th>\n",
       "      <th>Unemployment Rate</th>\n",
       "    </tr>\n",
       "  </thead>\n",
       "  <tbody>\n",
       "    <tr>\n",
       "      <th>0</th>\n",
       "      <td>00601</td>\n",
       "      <td>18450.0</td>\n",
       "      <td>7.934959</td>\n",
       "    </tr>\n",
       "    <tr>\n",
       "      <th>1</th>\n",
       "      <td>00602</td>\n",
       "      <td>41302.0</td>\n",
       "      <td>11.541814</td>\n",
       "    </tr>\n",
       "    <tr>\n",
       "      <th>2</th>\n",
       "      <td>00603</td>\n",
       "      <td>53683.0</td>\n",
       "      <td>8.086359</td>\n",
       "    </tr>\n",
       "    <tr>\n",
       "      <th>3</th>\n",
       "      <td>00606</td>\n",
       "      <td>6591.0</td>\n",
       "      <td>2.033075</td>\n",
       "    </tr>\n",
       "    <tr>\n",
       "      <th>4</th>\n",
       "      <td>00610</td>\n",
       "      <td>28963.0</td>\n",
       "      <td>3.915340</td>\n",
       "    </tr>\n",
       "  </tbody>\n",
       "</table>\n",
       "</div>"
      ],
      "text/plain": [
       "  Zipcode  Population  Unemployment Rate\n",
       "0   00601     18450.0           7.934959\n",
       "1   00602     41302.0          11.541814\n",
       "2   00603     53683.0           8.086359\n",
       "3   00606      6591.0           2.033075\n",
       "4   00610     28963.0           3.915340"
      ]
     },
     "execution_count": 2,
     "metadata": {},
     "output_type": "execute_result"
    }
   ],
   "source": [
    "# RETRIBING CENSUS DATA\n",
    "census_data = c.acs5.get((\"B01003_001E\", \"B23025_005E\"), {\n",
    "                         'for': 'zip code tabulation area:*'})\n",
    "\n",
    "\n",
    "\n",
    "# CONVERTING TO DATA FRAME\n",
    "census_pd = pd.DataFrame(census_data)\n",
    "\n",
    "# REODERING COLUMN\n",
    "census_pd = census_pd.rename(columns={\"B01003_001E\": \"Population\",\n",
    "                                      \"B23025_005E\": \"Unemployment Count\",\n",
    "                                      \"zip code tabulation area\": \"Zipcode\"})\n",
    "\n",
    "\n",
    "\n",
    "# ADD EMPLYMENT RATE (Employment Count / Population)\n",
    "census_pd[\"Unemployment Rate\"] = 100 * \\\n",
    "    census_pd[\"Unemployment Count\"].astype(\n",
    "        int) / census_pd[\"Population\"].astype(int)\n",
    "\n",
    "census_pd = census_pd[[\"Zipcode\", \"Population\", \"Unemployment Rate\"]]\n",
    "\n",
    "\n",
    "# VIZUALIZING\n",
    "print(len(census_pd))\n",
    "census_pd.head()"
   ]
  },
  {
   "cell_type": "markdown",
   "metadata": {},
   "source": [
    "## Combine Data"
   ]
  },
  {
   "cell_type": "code",
   "execution_count": 8,
   "metadata": {},
   "outputs": [
    {
     "data": {
      "text/html": [
       "<div>\n",
       "<style scoped>\n",
       "    .dataframe tbody tr th:only-of-type {\n",
       "        vertical-align: middle;\n",
       "    }\n",
       "\n",
       "    .dataframe tbody tr th {\n",
       "        vertical-align: top;\n",
       "    }\n",
       "\n",
       "    .dataframe thead th {\n",
       "        text-align: right;\n",
       "    }\n",
       "</style>\n",
       "<table border=\"1\" class=\"dataframe\">\n",
       "  <thead>\n",
       "    <tr style=\"text-align: right;\">\n",
       "      <th></th>\n",
       "      <th>Zipcode</th>\n",
       "      <th>Address</th>\n",
       "      <th>Population</th>\n",
       "      <th>Median Age</th>\n",
       "      <th>Household Income</th>\n",
       "      <th>Per Capita Income</th>\n",
       "      <th>Poverty Rate</th>\n",
       "      <th>Lat</th>\n",
       "      <th>Lng</th>\n",
       "      <th>Bank Count</th>\n",
       "    </tr>\n",
       "  </thead>\n",
       "  <tbody>\n",
       "    <tr>\n",
       "      <th>0</th>\n",
       "      <td>49058</td>\n",
       "      <td>Hastings, MI 49058, USA</td>\n",
       "      <td>19031</td>\n",
       "      <td>40.8</td>\n",
       "      <td>46777</td>\n",
       "      <td>22137</td>\n",
       "      <td>13.18375282</td>\n",
       "      <td>42.6306916</td>\n",
       "      <td>-85.2929384</td>\n",
       "      <td>9</td>\n",
       "    </tr>\n",
       "    <tr>\n",
       "      <th>1</th>\n",
       "      <td>71405</td>\n",
       "      <td>Ball, LA 71405, USA</td>\n",
       "      <td>5687</td>\n",
       "      <td>35.8</td>\n",
       "      <td>55242</td>\n",
       "      <td>23941</td>\n",
       "      <td>15.73764727</td>\n",
       "      <td>31.4061799</td>\n",
       "      <td>-92.396174</td>\n",
       "      <td>12</td>\n",
       "    </tr>\n",
       "    <tr>\n",
       "      <th>2</th>\n",
       "      <td>20634</td>\n",
       "      <td>Great Mills, MD 20634, USA</td>\n",
       "      <td>6562</td>\n",
       "      <td>31.9</td>\n",
       "      <td>79944</td>\n",
       "      <td>35961</td>\n",
       "      <td>9.295946358</td>\n",
       "      <td>38.2201614</td>\n",
       "      <td>-76.4967919</td>\n",
       "      <td>9</td>\n",
       "    </tr>\n",
       "    <tr>\n",
       "      <th>3</th>\n",
       "      <td>38487</td>\n",
       "      <td>Williamsport, TN 38487, USA</td>\n",
       "      <td>762</td>\n",
       "      <td>41.6</td>\n",
       "      <td>38125</td>\n",
       "      <td>18884</td>\n",
       "      <td>24.40944882</td>\n",
       "      <td>35.7310368</td>\n",
       "      <td>-87.2419299</td>\n",
       "      <td>0</td>\n",
       "    </tr>\n",
       "    <tr>\n",
       "      <th>4</th>\n",
       "      <td>58466</td>\n",
       "      <td>Marion, ND 58466, USA</td>\n",
       "      <td>509</td>\n",
       "      <td>44.5</td>\n",
       "      <td>69844</td>\n",
       "      <td>36981</td>\n",
       "      <td>9.430255403</td>\n",
       "      <td>46.5594224</td>\n",
       "      <td>-98.3481542</td>\n",
       "      <td>1</td>\n",
       "    </tr>\n",
       "  </tbody>\n",
       "</table>\n",
       "</div>"
      ],
      "text/plain": [
       "  Zipcode                      Address Population Median Age Household Income  \\\n",
       "0   49058      Hastings, MI 49058, USA      19031       40.8            46777   \n",
       "1   71405          Ball, LA 71405, USA       5687       35.8            55242   \n",
       "2   20634   Great Mills, MD 20634, USA       6562       31.9            79944   \n",
       "3   38487  Williamsport, TN 38487, USA        762       41.6            38125   \n",
       "4   58466        Marion, ND 58466, USA        509       44.5            69844   \n",
       "\n",
       "  Per Capita Income Poverty Rate         Lat          Lng Bank Count  \n",
       "0             22137  13.18375282  42.6306916  -85.2929384          9  \n",
       "1             23941  15.73764727  31.4061799   -92.396174         12  \n",
       "2             35961  9.295946358  38.2201614  -76.4967919          9  \n",
       "3             18884  24.40944882  35.7310368  -87.2419299          0  \n",
       "4             36981  9.430255403  46.5594224  -98.3481542          1  "
      ]
     },
     "execution_count": 8,
     "metadata": {},
     "output_type": "execute_result"
    }
   ],
   "source": [
    "# IMPORTING ORIGINAL DATA TO ANALYSE EARLY\n",
    "census_data_original = pd.read_csv(\n",
    "    \"../Resources/zip_bank_data.csv\", dtype=\"object\", encoding=\"utf-8\")\n",
    "\n",
    "\n",
    "census_data_original.head()"
   ]
  },
  {
   "cell_type": "code",
   "execution_count": 14,
   "metadata": {},
   "outputs": [],
   "source": [
    "# MERGE IN 2 DATA SETS\n",
    "census_data_complete = pd.merge(\n",
    "    census_data_original, census_pd, how=\"left\", on=[\"Zipcode\", \"Zipcode\"])\n",
    "\n",
    "\n",
    "census_data_complete.to_csv(\n",
    "    \"../Resources/bank_data_with_employment.csv\", encoding=\"utf-8\", index=False)\n",
    "\n",
    "\n",
    "\n",
    "census_data_complete.head()"
   ]
  },
  {
   "cell_type": "markdown",
   "metadata": {},
   "source": [
    "## Heatmap of poverty rate"
   ]
  },
  {
   "cell_type": "code",
   "execution_count": 10,
   "metadata": {},
   "outputs": [],
   "source": [
    "# API KEY\n",
    "gmaps.configure(api_key=gkey)"
   ]
  },
  {
   "cell_type": "code",
   "execution_count": null,
   "metadata": {},
   "outputs": [],
   "source": [
    "# STORING \"LAT\" AND \"LNG\"\n",
    "locations = census_data_complete[[\"Lat\", \"Lng\"]].astype(float)\n",
    "\n",
    "poverty_rate = census_data_complete[\"Poverty Rate\"].astype(float)\n",
    "\n"
   ]
  },
  {
   "cell_type": "code",
   "execution_count": null,
   "metadata": {},
   "outputs": [],
   "source": [
    "# POVERTY HEATMAP LAYER\n",
    "fig = gmaps.figure()\n",
    "\n",
    "heat_layer = gmaps.heatmap_layer(locations, weights=poverty_rate, \n",
    "                                 dissipating=False, max_intensity=100,\n",
    "                                 point_radius = 1)\n",
    "\n",
    "# Adjust heat_layer setting to help with heatmap dissipating on zoom\n",
    "heat_layer.dissipating = False\n",
    "heat_layer.max_intensity = 100\n",
    "heat_layer.point_radius = 1\n",
    "\n",
    "fig.add_layer(heat_layer)\n",
    "\n",
    "plt.savefig('map1.pdf')\n",
    "\n",
    "fig"
   ]
  },
  {
   "cell_type": "markdown",
   "metadata": {},
   "source": [
    "![Heatmap](../Images/heatmap.png)"
   ]
  },
  {
   "cell_type": "code",
   "execution_count": 8,
   "metadata": {},
   "outputs": [],
   "source": [
    "# CONVERT BANK TO A LIST\n",
    "bank_rate = census_data_complete[\"Bank Count\"].tolist()\n",
    "\n"
   ]
  },
  {
   "cell_type": "code",
   "execution_count": null,
   "metadata": {},
   "outputs": [],
   "source": [
    "# BANK SYMBOL LAYER\n",
    "bank_layer = gmaps.symbol_layer(\n",
    "    locations, fill_color='rgba(0, 150, 0, 0.4)',\n",
    "    stroke_color='rgba(0, 0, 150, 0.4)', scale=2,\n",
    "    info_box_content=[f\"Bank amount: {bank}\" for bank in bank_rate]\n",
    ")\n",
    "\n",
    "\n",
    "fig = gmaps.figure()\n",
    "fig.add_layer(bank_layer)\n",
    "\n",
    "plt.savefig('map2.pdf')\n",
    "\n",
    "fig"
   ]
  },
  {
   "cell_type": "markdown",
   "metadata": {},
   "source": [
    "![Bank Map](../Images/bank_map.png)"
   ]
  },
  {
   "cell_type": "code",
   "execution_count": null,
   "metadata": {},
   "outputs": [],
   "source": [
    "# Create a combined map\n",
    "fig = gmaps.figure()\n",
    "\n",
    "fig.add_layer(heat_layer)\n",
    "fig.add_layer(bank_layer)\n",
    "\n",
    "plt.savefig('map3.pdf')\n",
    "\n",
    "fig"
   ]
  },
  {
   "cell_type": "markdown",
   "metadata": {},
   "source": [
    "![Combined Map](../Images/final_map.png)"
   ]
  },
  {
   "cell_type": "code",
   "execution_count": null,
   "metadata": {},
   "outputs": [],
   "source": []
  }
 ],
 "metadata": {
  "kernelspec": {
   "display_name": "Python 3",
   "language": "python",
   "name": "python3"
  },
  "language_info": {
   "codemirror_mode": {
    "name": "ipython",
    "version": 3
   },
   "file_extension": ".py",
   "mimetype": "text/x-python",
   "name": "python",
   "nbconvert_exporter": "python",
   "pygments_lexer": "ipython3",
   "version": "3.6.4"
  }
 },
 "nbformat": 4,
 "nbformat_minor": 2
}
